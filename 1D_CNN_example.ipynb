{
  "cells": [
    {
      "cell_type": "markdown",
      "id": "47183988",
      "metadata": {
        "id": "47183988"
      },
      "source": [
        "### Libs import"
      ]
    },
    {
      "cell_type": "code",
      "execution_count": null,
      "id": "8c94875a",
      "metadata": {
        "id": "8c94875a"
      },
      "outputs": [],
      "source": [
        "import numpy as np \n",
        "import pandas as pd \n",
        "import matplotlib.pyplot as plt \n",
        "import seaborn as sns \n",
        "from sklearn.linear_model import LogisticRegression, LogisticRegressionCV\n",
        "from sklearn.ensemble import RandomForestClassifier\n",
        "from sklearn.metrics import * \n",
        "from sklearn.preprocessing import * \n",
        "import xgboost as xgb\n",
        "from sklearn.decomposition import PCA, KernelPCA\n",
        "# from sklearn.manifold import TSNE\n",
        "import scipy\n",
        "from sklearn.svm import SVC\n",
        "import shap"
      ]
    },
    {
      "cell_type": "code",
      "execution_count": null,
      "id": "2e7a4aa9",
      "metadata": {
        "id": "2e7a4aa9"
      },
      "outputs": [],
      "source": [
        "import tensorflow as tf"
      ]
    },
    {
      "cell_type": "markdown",
      "id": "be85fb01",
      "metadata": {
        "id": "be85fb01"
      },
      "source": [
        "# A. Exploratory Data Analysis"
      ]
    },
    {
      "cell_type": "markdown",
      "id": "639ab5ae",
      "metadata": {
        "id": "639ab5ae"
      },
      "source": [
        "### AA. Features"
      ]
    },
    {
      "cell_type": "code",
      "execution_count": null,
      "id": "3250dee1",
      "metadata": {
        "id": "3250dee1"
      },
      "outputs": [],
      "source": [
        "# # Loading Data\n",
        "# X_train = np.load('...')\n",
        "# X_test = np.load('...')\n",
        "# y_train = np.load('...')\n",
        "# y_test = np.load('...')"
      ]
    },
    {
      "cell_type": "code",
      "execution_count": null,
      "id": "add4efe1",
      "metadata": {
        "scrolled": true,
        "id": "add4efe1"
      },
      "outputs": [],
      "source": [
        "# Checking input data shapes\n",
        "# X_train.shape, X_test.shape"
      ]
    },
    {
      "cell_type": "markdown",
      "id": "6bb1ed35",
      "metadata": {
        "id": "6bb1ed35"
      },
      "source": [
        "### What we observe: \n",
        "- A 3D tensor containing observations for 128 seconds receieved from 9 sensors for each object.\n",
        "- Number of objects (train) = 7 352, number of objects (test) = 2947.  \n",
        "- In order to perform a classification task, it is better to get rid of the **third** dimension. As long as one of the dimensions of our input data's tensor is arrays of data unit for 128 seconds, probably, we do not need to feed the model with all 128 sec observations and can reduce this data to its in-group aggregation metrics - mean/median/std, etc. **Thus**, we will supposedly have train and test input tensors of (7352,9) and (2947, 9) respectively.\n",
        "- In order to check which aggregation metric it is better to use, let's calculate variation coefficients for each group of 128 data units registered from each sernsor for each object"
      ]
    },
    {
      "cell_type": "markdown",
      "id": "216ef4a5",
      "metadata": {
        "id": "216ef4a5"
      },
      "source": [
        "### Feature Enginnering"
      ]
    },
    {
      "cell_type": "code",
      "execution_count": null,
      "id": "cb07d73b",
      "metadata": {
        "id": "cb07d73b"
      },
      "outputs": [],
      "source": [
        "# First of all, let's swap (reshape) our input tensor into (n, 9, 128) \n",
        "# to calculate descriptive statistics for SECONDS dimension observations for each sensor\n",
        "\n",
        "# X_train_swapped = np.swapaxes(X_train, 1, 2)\n",
        "# X_test_swapped = np.swapaxes(X_test, 1, 2)"
      ]
    },
    {
      "cell_type": "code",
      "execution_count": null,
      "id": "82d13a07",
      "metadata": {
        "scrolled": true,
        "id": "82d13a07",
        "outputId": "edf3bc11-cec6-4244-9c8a-be1ddbc95717"
      },
      "outputs": [
        {
          "data": {
            "text/plain": [
              "((7352, 9, 128), (2947, 9, 128))"
            ]
          },
          "execution_count": 6,
          "metadata": {},
          "output_type": "execute_result"
        }
      ],
      "source": [
        "X_train_swapped.shape, X_test_swapped.shape"
      ]
    },
    {
      "cell_type": "markdown",
      "id": "9200e09e",
      "metadata": {
        "id": "9200e09e"
      },
      "source": [
        "### Visual representation of data semantics "
      ]
    },
    {
      "cell_type": "code",
      "execution_count": null,
      "id": "aa47286e",
      "metadata": {
        "id": "aa47286e"
      },
      "outputs": [],
      "source": [
        "# Variance Coefficient Calculation Function \n",
        "def var_coeff_calculation(arr = None):\n",
        "    \"\"\"Onece max and min variation coefficients are more than 33%, we can't convolute data to its mean\n",
        "       It is better to use either std or median\"\"\"\n",
        "    mean_s = np.array(arr).mean()\n",
        "    std_s = np.array(arr).std()\n",
        "    return (std_s, mean_s, std_s/mean_s) if mean_s != 0 else (std_s, mean_s, 0)"
      ]
    },
    {
      "cell_type": "code",
      "execution_count": null,
      "id": "f361fee8",
      "metadata": {
        "id": "f361fee8"
      },
      "outputs": [],
      "source": [
        "# Let us calculate & check max and min of variation coefficients only for train data \n",
        "# - if it's not high (<33%),we'll perform the same procedure for the test sample\n",
        "\n",
        "var_coeff_array_sensors = []\n",
        "for lev_1 in X_train_swapped: \n",
        "    for lev_2 in lev_1: \n",
        "        var_coeff_array_sensors.append(var_coeff_calculation(lev_2))"
      ]
    },
    {
      "cell_type": "code",
      "execution_count": null,
      "id": "51a338c6",
      "metadata": {
        "id": "51a338c6",
        "outputId": "d8d2820b-0d14-4d84-9fc7-fc374d68a390"
      },
      "outputs": [
        {
          "data": {
            "text/plain": [
              "True"
            ]
          },
          "execution_count": 9,
          "metadata": {},
          "output_type": "execute_result"
        }
      ],
      "source": [
        "# Let us check if our variation coefficient array's dim matches 9*7352\n",
        "len(var_coeff_array_sensors) == 9*7352"
      ]
    },
    {
      "cell_type": "code",
      "execution_count": null,
      "id": "4d132d59",
      "metadata": {
        "id": "4d132d59"
      },
      "outputs": [],
      "source": [
        "ar_sort = sorted(var_coeff_array_sensors, key = lambda x: x[2]) # Sorting VarCoeff array"
      ]
    },
    {
      "cell_type": "code",
      "execution_count": 6,
      "id": "a38284a0",
      "metadata": {
        "id": "a38284a0"
      },
      "outputs": [],
      "source": [
        "# Let us derive max and min variation coefficients throughout the whole train sample:\n",
        "# ar_sort[0], ar_sort[-1]"
      ]
    },
    {
      "cell_type": "markdown",
      "id": "6d1f9dfd",
      "metadata": {
        "id": "6d1f9dfd"
      },
      "source": [
        "### A short after-analysis conclusion\n",
        "- Min & max variation coefficient values for the in-group obs for 7352 objects from 9 sensors - **m** and **n** respectively. These values are extremely high, so we are not supposed to use mean values for the third dimension. \n",
        "- At the same time, it can be relevant and wise to use **aggregative statistics** as features for future models, because we have to deal with numerical data which is obviously *homogeneously distributed* (the same data from equally functioning sensors)"
      ]
    },
    {
      "cell_type": "markdown",
      "id": "9b5f5696",
      "metadata": {
        "id": "9b5f5696"
      },
      "source": [
        "<hr>"
      ]
    },
    {
      "cell_type": "markdown",
      "id": "39c553c0",
      "metadata": {
        "id": "39c553c0"
      },
      "source": [
        "## Feature Engineering"
      ]
    },
    {
      "cell_type": "markdown",
      "id": "0aea553a",
      "metadata": {
        "id": "0aea553a"
      },
      "source": [
        "### Convolution fuctions transforming goups of data units to their aggregative statistics"
      ]
    },
    {
      "cell_type": "code",
      "execution_count": null,
      "id": "84ff1a93",
      "metadata": {
        "id": "84ff1a93"
      },
      "outputs": [],
      "source": [
        "# Relative descriptive statistics\n",
        "def replace_dim_vc(_3dtensor, func1, func2):\n",
        "    new_tensor = np.ones(shape = (_3dtensor.shape[0], _3dtensor.shape[1]))\n",
        "    for i in range(0, _3dtensor.shape[0], 1): \n",
        "        for k in range(0, _3dtensor.shape[1], 1):\n",
        "            new_tensor[i,k] = func1(_3dtensor[i,k]) / func2(_3dtensor[i,k]) if func2(_3dtensor[i,k]) != 0 else 0\n",
        "    assert new_tensor.shape[0]*new_tensor.shape[1] == _3dtensor.shape[0]*_3dtensor.shape[1]\n",
        "    return new_tensor"
      ]
    },
    {
      "cell_type": "code",
      "execution_count": null,
      "id": "af0d117f",
      "metadata": {
        "id": "af0d117f"
      },
      "outputs": [],
      "source": [
        "# Aggregative function application\n",
        "def replace_dim_f(_3dtensor, func):\n",
        "    \"\"\"func parameter takes a reference to the aggregate function to be used here\"\"\"\n",
        "    new_tensor = np.ones(shape = (_3dtensor.shape[0], _3dtensor.shape[1]))\n",
        "    for i in range(0, _3dtensor.shape[0], 1): \n",
        "        for k in range(0, _3dtensor.shape[1], 1):\n",
        "            new_tensor[i,k] =  func(_3dtensor[i,k]) # Aggregation function application\n",
        "    assert new_tensor.shape[0]*new_tensor.shape[1] == _3dtensor.shape[0]*_3dtensor.shape[1]\n",
        "    return new_tensor"
      ]
    },
    {
      "cell_type": "markdown",
      "id": "2639b0b0",
      "metadata": {
        "id": "2639b0b0"
      },
      "source": [
        "### Applying def replace_dim_median() to our train and test data"
      ]
    },
    {
      "cell_type": "markdown",
      "id": "ca7ddce1",
      "metadata": {
        "id": "ca7ddce1"
      },
      "source": [
        "#### To median"
      ]
    },
    {
      "cell_type": "code",
      "execution_count": null,
      "id": "d04b2a95",
      "metadata": {
        "id": "d04b2a95"
      },
      "outputs": [],
      "source": [
        "X_train_median = replace_dim_f(X_train_swapped, func = np.median)\n",
        "X_test_median = replace_dim_f(X_test_swapped, func = np.median)"
      ]
    },
    {
      "cell_type": "markdown",
      "id": "87a7f330",
      "metadata": {
        "id": "87a7f330"
      },
      "source": [
        "#### To mean"
      ]
    },
    {
      "cell_type": "code",
      "execution_count": null,
      "id": "4f5ff36d",
      "metadata": {
        "id": "4f5ff36d"
      },
      "outputs": [],
      "source": [
        "X_train_mean = replace_dim_f(X_train_swapped, func = np.mean)\n",
        "X_test_mean = replace_dim_f(X_test_swapped, func = np.mean)"
      ]
    },
    {
      "cell_type": "markdown",
      "id": "932192be",
      "metadata": {
        "id": "932192be"
      },
      "source": [
        "#### To range of values"
      ]
    },
    {
      "cell_type": "code",
      "execution_count": null,
      "id": "229b5560",
      "metadata": {
        "id": "229b5560"
      },
      "outputs": [],
      "source": [
        "X_train_ptp = replace_dim_f(X_train_swapped, func = np.ptp)\n",
        "X_test_ptp = replace_dim_f(X_test_swapped, func = np.ptp)"
      ]
    },
    {
      "cell_type": "markdown",
      "id": "35d93fea",
      "metadata": {
        "id": "35d93fea"
      },
      "source": [
        "#### To STD"
      ]
    },
    {
      "cell_type": "code",
      "execution_count": null,
      "id": "e719125f",
      "metadata": {
        "id": "e719125f"
      },
      "outputs": [],
      "source": [
        "X_train_std = replace_dim_f(X_train_swapped, func = np.std )\n",
        "X_test_std = replace_dim_f(X_test_swapped, func = np.std)"
      ]
    },
    {
      "cell_type": "markdown",
      "id": "acaeabbd",
      "metadata": {
        "id": "acaeabbd"
      },
      "source": [
        "#### To Reverse Variation Coefficient & Oscilation Coefficient"
      ]
    },
    {
      "cell_type": "code",
      "execution_count": null,
      "id": "23415c1e",
      "metadata": {
        "id": "23415c1e"
      },
      "outputs": [],
      "source": [
        "X_train_vc = replace_dim_vc(X_train_swapped, func1 = np.mean, func2 = np.std)\n",
        "X_test_vc = replace_dim_vc(X_test_swapped, func1 = np.mean, func2 = np.std)"
      ]
    },
    {
      "cell_type": "code",
      "execution_count": null,
      "id": "7f95df3a",
      "metadata": {
        "id": "7f95df3a"
      },
      "outputs": [],
      "source": [
        "X_train_oc = replace_dim_vc(X_train_swapped, func1 = np.mean, func2 = np.ptp)\n",
        "X_test_oc = replace_dim_vc(X_test_swapped, func1 = np.mean, func2 = np.ptp)"
      ]
    },
    {
      "cell_type": "markdown",
      "id": "d0068d64",
      "metadata": {
        "id": "d0068d64"
      },
      "source": [
        "#### To Kurtosis (4th moment)"
      ]
    },
    {
      "cell_type": "code",
      "execution_count": null,
      "id": "741c00c6",
      "metadata": {
        "id": "741c00c6"
      },
      "outputs": [],
      "source": [
        "X_train_kurt = replace_dim_f(X_train_swapped, func = scipy.stats.kurtosis)\n",
        "X_test_kurt = replace_dim_f(X_test_swapped, func = scipy.stats.kurtosis)"
      ]
    },
    {
      "cell_type": "markdown",
      "id": "f3e29de2",
      "metadata": {
        "id": "f3e29de2"
      },
      "source": [
        "#### To Skew (3rd moment)"
      ]
    },
    {
      "cell_type": "code",
      "execution_count": null,
      "id": "d46cf82f",
      "metadata": {
        "id": "d46cf82f"
      },
      "outputs": [],
      "source": [
        "X_train_skew = replace_dim_f(X_train_swapped, scipy.stats.skew)\n",
        "X_test_skew = replace_dim_f(X_test_swapped, scipy.stats.skew)"
      ]
    },
    {
      "cell_type": "markdown",
      "id": "d669a5d8",
      "metadata": {
        "id": "d669a5d8"
      },
      "source": [
        "#### To min & max - optional"
      ]
    },
    {
      "cell_type": "code",
      "execution_count": null,
      "id": "81b604b5",
      "metadata": {
        "id": "81b604b5"
      },
      "outputs": [],
      "source": [
        "X_train_min = replace_dim_f(X_train_swapped, np.min)\n",
        "X_test_min = replace_dim_f(X_test_swapped, np.min)"
      ]
    },
    {
      "cell_type": "code",
      "execution_count": null,
      "id": "9b79843a",
      "metadata": {
        "id": "9b79843a"
      },
      "outputs": [],
      "source": [
        "X_train_max = replace_dim_f(X_train_swapped, np.max)\n",
        "X_test_max = replace_dim_f(X_test_swapped, np.max)"
      ]
    },
    {
      "cell_type": "markdown",
      "id": "a9424d8c",
      "metadata": {
        "id": "a9424d8c"
      },
      "source": [
        "#### To MUL - optional"
      ]
    },
    {
      "cell_type": "code",
      "execution_count": null,
      "id": "f1034213",
      "metadata": {
        "id": "f1034213"
      },
      "outputs": [],
      "source": [
        "X_train_mul_1 = np.array([X_train_vc[:, i] * X_train_std[:, i+1] for i in range(0, X_train_std.shape[1]-2, 1)]).T \n",
        "X_test_mul_1 = np.array([X_test_vc[:, i] * X_test_std[:, i+1] for i in range(0, X_test_std.shape[1]-2, 1)]).T "
      ]
    },
    {
      "cell_type": "markdown",
      "id": "a93328f8",
      "metadata": {
        "id": "a93328f8"
      },
      "source": [
        "<hr>"
      ]
    },
    {
      "cell_type": "markdown",
      "id": "53142c84",
      "metadata": {
        "id": "53142c84"
      },
      "source": [
        "Esperimentally, we have managed to achieve the best quality metric values for all the algs (except of the one of CNN) _through feature generation -  having extracted median, std, reverse variation & oscillation coefficient, kurtosis and skew values for the 128 observations coming from 9 sensors for every object_ as our features (45 features in total) "
      ]
    },
    {
      "cell_type": "code",
      "execution_count": null,
      "id": "f98f1c3f",
      "metadata": {
        "id": "f98f1c3f"
      },
      "outputs": [],
      "source": [
        "X_train_f = np.concatenate((X_train_median, X_train_std, X_train_vc, X_train_kurt, X_train_skew), axis = 1)\n",
        "X_test_f = np.concatenate((X_test_median, X_test_std, X_test_vc, X_test_kurt, X_test_skew), axis = 1)"
      ]
    },
    {
      "cell_type": "markdown",
      "id": "ec7ffa43",
      "metadata": {
        "id": "ec7ffa43"
      },
      "source": [
        "#### Brief look at the data"
      ]
    },
    {
      "cell_type": "code",
      "execution_count": null,
      "id": "53fceeef",
      "metadata": {
        "id": "53fceeef"
      },
      "outputs": [],
      "source": [
        "# pd.DataFrame(X_train_f).tail()"
      ]
    },
    {
      "cell_type": "markdown",
      "id": "8922f20c",
      "metadata": {
        "id": "8922f20c"
      },
      "source": [
        "#### Some plots for our median data"
      ]
    },
    {
      "cell_type": "code",
      "execution_count": null,
      "id": "a2cca2cc",
      "metadata": {
        "scrolled": false,
        "id": "a2cca2cc",
        "outputId": "d8298bbc-bd7e-4635-a877-315e4c9e1417"
      },
      "outputs": [
        {
          "name": "stdout",
          "output_type": "stream",
          "text": [
            "Mean for in-group median values is close to 0.0\n"
          ]
        },
        {
          "data": {
            "image/png": "[encoded data removed]",
            "text/plain": [
              "<Figure size 432x288 with 1 Axes>"
            ]
          },
          "metadata": {
            "needs_background": "light"
          },
          "output_type": "display_data"
        }
      ],
      "source": [
        "# Histplot for X_train_new_sensors\n",
        "sns.histplot(X_train_median)\n",
        "print('Mean for in-group median values is close to 0.0')\n",
        "plt.show()"
      ]
    },
    {
      "cell_type": "code",
      "execution_count": null,
      "id": "8ecbf37a",
      "metadata": {
        "scrolled": true,
        "id": "8ecbf37a",
        "outputId": "1123e7d7-7027-4eeb-d4ab-cd3d41b68513"
      },
      "outputs": [
        {
          "name": "stdout",
          "output_type": "stream",
          "text": [
            "Mean for in-group median values is close to 0.0\n"
          ]
        },
        {
          "data": {
            "image/png": "[encoded data removed]",
            "text/plain": [
              "<Figure size 432x288 with 1 Axes>"
            ]
          },
          "metadata": {
            "needs_background": "light"
          },
          "output_type": "display_data"
        }
      ],
      "source": [
        "# Histplot for X_test_new_sensors\n",
        "sns.histplot(X_test_median)\n",
        "print('Mean for in-group median values is close to 0.0')\n",
        "plt.show()"
      ]
    },
    {
      "cell_type": "markdown",
      "id": "ae9d3535",
      "metadata": {
        "id": "ae9d3535"
      },
      "source": [
        "<hr>"
      ]
    },
    {
      "cell_type": "markdown",
      "id": "40dc9d45",
      "metadata": {
        "id": "40dc9d45"
      },
      "source": [
        "### AB. Target"
      ]
    },
    {
      "cell_type": "code",
      "execution_count": null,
      "id": "2a7f47b9",
      "metadata": {
        "scrolled": false,
        "id": "2a7f47b9",
        "outputId": "7ca712ce-6287-46a2-fa1a-1214e6c3d50a"
      },
      "outputs": [
        {
          "data": {
            "image/png": "[encoded data removed]",
            "text/plain": [
              "<Figure size 1224x504 with 2 Axes>"
            ]
          },
          "metadata": {
            "needs_background": "light"
          },
          "output_type": "display_data"
        }
      ],
      "source": [
        "# Checking if there is any sign of class disbalance in target variables (y_train, y _test)\n",
        "fig1, ax1 = plt.subplots(nrows = 1, ncols = 2, figsize = (17, 7))\n",
        "for piece_of_data in [(ax1[0], y_train, 'Y train'), (ax1[1], y_test, 'Y test')]:\n",
        "    df_Y = pd.DataFrame(piece_of_data[1])\n",
        "    sns.barplot(ax = piece_of_data[0], \n",
        "                data = df_Y)\n",
        "    piece_of_data[0].set_title(piece_of_data[2], size = 25)"
      ]
    },
    {
      "cell_type": "markdown",
      "id": "94aea903",
      "metadata": {
        "id": "94aea903"
      },
      "source": [
        "**Number of observations**: \n",
        "- with class value 5 - 20% \n",
        "- with class value 4 - 18% \n",
        "- with class value 3 - 17,5%\n",
        "- with class value 2 - 13%\n",
        "- with class value 1 - 15% \n",
        "- with class value 0 - 16% \n",
        "\n",
        "**Variation coefficient:** 14,82% < 33% => no strong class disbalance"
      ]
    },
    {
      "cell_type": "markdown",
      "id": "ce8964f2",
      "metadata": {
        "id": "ce8964f2"
      },
      "source": [
        "<hr>"
      ]
    },
    {
      "cell_type": "markdown",
      "id": "4bf1d09b",
      "metadata": {
        "id": "4bf1d09b"
      },
      "source": [
        "### Transforming Y: one-hot encoded -> multinominal vectors"
      ]
    },
    {
      "cell_type": "code",
      "execution_count": null,
      "id": "a8121c16",
      "metadata": {
        "id": "a8121c16"
      },
      "outputs": [],
      "source": [
        "y_train_vector = np.array([int(np.where(a == 1)[0]) for a in y_train])\n",
        "y_test_vector = np.array([int(np.where(b == 1)[0]) for b in y_test])"
      ]
    },
    {
      "cell_type": "markdown",
      "id": "1eaf984f",
      "metadata": {
        "id": "1eaf984f"
      },
      "source": [
        "<hr>"
      ]
    },
    {
      "cell_type": "markdown",
      "id": "dc71eeba",
      "metadata": {
        "id": "dc71eeba"
      },
      "source": [
        "# B. ML algorithms implementation"
      ]
    },
    {
      "cell_type": "markdown",
      "id": "edb5b755",
      "metadata": {
        "id": "edb5b755"
      },
      "source": [
        "- XGBoosting \n",
        "- Dense Neural Network \n",
        "- Random Forest Classifier\n",
        "- Сonvolutional Neural Network"
      ]
    },
    {
      "cell_type": "markdown",
      "id": "9b44c770",
      "metadata": {
        "id": "9b44c770"
      },
      "source": [
        "### B-1. XGBoost"
      ]
    },
    {
      "cell_type": "code",
      "execution_count": null,
      "id": "834f7c32",
      "metadata": {
        "id": "834f7c32",
        "outputId": "dd580fc8-1c49-409a-e46e-0f4aad2f240b"
      },
      "outputs": [
        {
          "name": "stderr",
          "output_type": "stream",
          "text": [
            "D:\\anaconda3\\lib\\site-packages\\xgboost\\sklearn.py:1224: UserWarning: The use of label encoder in XGBClassifier is deprecated and will be removed in a future release. To remove this warning, do the following: 1) Pass option use_label_encoder=False when constructing XGBClassifier object; and 2) Encode your labels (y) as integers starting with 0, i.e. 0, 1, 2, ..., [num_class - 1].\n",
            "  warnings.warn(label_encoder_deprecation_msg, UserWarning)\n"
          ]
        },
        {
          "name": "stdout",
          "output_type": "stream",
          "text": [
            "[18:18:03] WARNING: ..\\src\\learner.cc:1115: Starting in XGBoost 1.3.0, the default evaluation metric used with the objective 'multi:softprob' was changed from 'merror' to 'mlogloss'. Explicitly set eval_metric if you'd like to restore the old behavior.\n"
          ]
        }
      ],
      "source": [
        "boosting_model = xgb.XGBClassifier(reg_lambda = 0.2, \n",
        "                                          max_depth = 6, \n",
        "                                          n_estimators = 90, \n",
        "                                          learning_rate = 0.27).fit(X_train_f, y_train_vector)"
      ]
    },
    {
      "cell_type": "markdown",
      "id": "1f42c2dc",
      "metadata": {
        "id": "1f42c2dc"
      },
      "source": [
        "#### Classification report"
      ]
    },
    {
      "cell_type": "code",
      "execution_count": null,
      "id": "ae0d34b8",
      "metadata": {
        "scrolled": true,
        "id": "ae0d34b8",
        "outputId": "d0119bf5-1020-4aa0-835b-28976cc23e0b"
      },
      "outputs": [
        {
          "name": "stdout",
          "output_type": "stream",
          "text": [
            "Test sample metrics:\n",
            "              precision    recall  f1-score   support\n",
            "\n",
            "           0       0.73      0.74      0.74       496\n",
            "           1       0.81      0.72      0.76       471\n",
            "           2       0.78      0.87      0.82       420\n",
            "           3       0.88      0.83      0.86       491\n",
            "           4       0.86      0.90      0.88       532\n",
            "           5       1.00      1.00      1.00       537\n",
            "\n",
            "    accuracy                           0.85      2947\n",
            "   macro avg       0.84      0.84      0.84      2947\n",
            "weighted avg       0.85      0.85      0.85      2947\n",
            "\n"
          ]
        }
      ],
      "source": [
        "print(f'Test sample metrics:\\n{classification_report(y_test_vector, boosting_model.predict(X_test_f))}')"
      ]
    },
    {
      "cell_type": "code",
      "execution_count": null,
      "id": "96ddecab",
      "metadata": {
        "id": "96ddecab"
      },
      "outputs": [],
      "source": [
        "roc_auc_train_xgb = roc_auc_score(y_train_vector, boosting_model.predict_proba(X_train_f), multi_class = 'ovr')\n",
        "roc_auc_test_xgb = roc_auc_score(y_test_vector, boosting_model.predict_proba(X_test_f), multi_class = 'ovr')"
      ]
    },
    {
      "cell_type": "code",
      "execution_count": null,
      "id": "52f8fe14",
      "metadata": {
        "scrolled": false,
        "id": "52f8fe14",
        "outputId": "2d1e59d2-2a02-4d06-ae08-b1aee3de8b8e"
      },
      "outputs": [
        {
          "data": {
            "text/plain": [
              "(1.0, 0.982462599582727)"
            ]
          },
          "execution_count": 35,
          "metadata": {},
          "output_type": "execute_result"
        }
      ],
      "source": [
        "roc_auc_train_xgb, roc_auc_test_xgb # slight overfitting"
      ]
    },
    {
      "cell_type": "markdown",
      "id": "05254f55",
      "metadata": {
        "id": "05254f55"
      },
      "source": [
        "<hr>"
      ]
    },
    {
      "cell_type": "markdown",
      "id": "cfd10671",
      "metadata": {
        "id": "cfd10671"
      },
      "source": [
        "<hr>"
      ]
    },
    {
      "cell_type": "markdown",
      "id": "b99f43be",
      "metadata": {
        "id": "b99f43be"
      },
      "source": [
        "### B-2. Dense Neural Network"
      ]
    },
    {
      "cell_type": "code",
      "execution_count": null,
      "id": "77193f2c",
      "metadata": {
        "id": "77193f2c"
      },
      "outputs": [],
      "source": [
        "# Neural net architecture\n",
        "neural_net_model = tf.keras.models.Sequential([tf.keras.Input(shape = (54,)),\n",
        "                                              tf.keras.layers.Dense(229, activation = 'relu', \n",
        "                                                                    bias_initializer = 'zeros'), \n",
        "                                               tf.keras.layers.Dense(6, activation = 'softmax')])"
      ]
    },
    {
      "cell_type": "code",
      "execution_count": null,
      "id": "18bec04e",
      "metadata": {
        "id": "18bec04e"
      },
      "outputs": [],
      "source": [
        "neural_net_model.compile(optimizer = 'adam', \n",
        "                        loss = 'categorical_crossentropy', \n",
        "                        metrics = ['Precision', 'Recall'])"
      ]
    },
    {
      "cell_type": "code",
      "execution_count": null,
      "id": "bae8ee06",
      "metadata": {
        "id": "bae8ee06"
      },
      "outputs": [],
      "source": [
        "# X_train_nn = np.concatenate((X_train_f, X_train_25), axis = 1)\n",
        "# X_test_nn = np.concatenate((X_test_f, X_test_25), axis = 1)"
      ]
    },
    {
      "cell_type": "code",
      "execution_count": null,
      "id": "c2e80679",
      "metadata": {
        "id": "c2e80679",
        "outputId": "0d79140c-9c82-4479-a260-41249d12cc96"
      },
      "outputs": [
        {
          "name": "stdout",
          "output_type": "stream",
          "text": [
            "Epoch 1/18\n",
            "230/230 [==============================] - 0s 1ms/step - loss: 1.0578 - precision: 0.8580 - recall: 0.6968\n",
            "Epoch 2/18\n",
            "230/230 [==============================] - 0s 1ms/step - loss: 0.3366 - precision: 0.8978 - recall: 0.8701\n",
            "Epoch 3/18\n",
            "230/230 [==============================] - 0s 1ms/step - loss: 0.3005 - precision: 0.9107 - recall: 0.8961\n",
            "Epoch 4/18\n",
            "230/230 [==============================] - 0s 1ms/step - loss: 0.2874 - precision: 0.9131 - recall: 0.9037\n",
            "Epoch 5/18\n",
            "230/230 [==============================] - 0s 1ms/step - loss: 0.2418 - precision: 0.9266 - recall: 0.9200\n",
            "Epoch 6/18\n",
            "230/230 [==============================] - 0s 1ms/step - loss: 0.2511 - precision: 0.9216 - recall: 0.9163\n",
            "Epoch 7/18\n",
            "230/230 [==============================] - 0s 1ms/step - loss: 0.2479 - precision: 0.9282 - recall: 0.9251\n",
            "Epoch 8/18\n",
            "230/230 [==============================] - 0s 1ms/step - loss: 0.2401 - precision: 0.9333 - recall: 0.9305\n",
            "Epoch 9/18\n",
            "230/230 [==============================] - 0s 1ms/step - loss: 0.1974 - precision: 0.9361 - recall: 0.9332\n",
            "Epoch 10/18\n",
            "230/230 [==============================] - 0s 1ms/step - loss: 0.2041 - precision: 0.9377 - recall: 0.9358\n",
            "Epoch 11/18\n",
            "230/230 [==============================] - 0s 1ms/step - loss: 0.1966 - precision: 0.9345 - recall: 0.9334\n",
            "Epoch 12/18\n",
            "230/230 [==============================] - 0s 1ms/step - loss: 0.2049 - precision: 0.9409 - recall: 0.9400\n",
            "Epoch 13/18\n",
            "230/230 [==============================] - 0s 1ms/step - loss: 0.1708 - precision: 0.9450 - recall: 0.9442\n",
            "Epoch 14/18\n",
            "230/230 [==============================] - 0s 1ms/step - loss: 0.1673 - precision: 0.9442 - recall: 0.9434\n",
            "Epoch 15/18\n",
            "230/230 [==============================] - 0s 1ms/step - loss: 0.1660 - precision: 0.9476 - recall: 0.9474\n",
            "Epoch 16/18\n",
            "230/230 [==============================] - 0s 1ms/step - loss: 0.1710 - precision: 0.9464 - recall: 0.9461\n",
            "Epoch 17/18\n",
            "230/230 [==============================] - 0s 1ms/step - loss: 0.1421 - precision: 0.9501 - recall: 0.9498\n",
            "Epoch 18/18\n",
            "230/230 [==============================] - 0s 1ms/step - loss: 0.1735 - precision: 0.9441 - recall: 0.9440\n"
          ]
        },
        {
          "data": {
            "text/plain": [
              "<tensorflow.python.keras.callbacks.History at 0x21a086f5ac0>"
            ]
          },
          "execution_count": 595,
          "metadata": {},
          "output_type": "execute_result"
        }
      ],
      "source": [
        "neural_net_model.fit(X_train_f, y_train, epochs = 18)"
      ]
    },
    {
      "cell_type": "code",
      "execution_count": null,
      "id": "6a12ff3a",
      "metadata": {
        "id": "6a12ff3a"
      },
      "outputs": [],
      "source": [
        "predictions_neural_net_train = neural_net_model.predict_classes(X_train_f)\n",
        "predictions_neural_net_test = neural_net_model.predict_classes(X_test_f)"
      ]
    },
    {
      "cell_type": "markdown",
      "id": "6c3629cf",
      "metadata": {
        "id": "6c3629cf"
      },
      "source": [
        "#### Classification report"
      ]
    },
    {
      "cell_type": "code",
      "execution_count": null,
      "id": "5eed347e",
      "metadata": {
        "id": "5eed347e",
        "outputId": "c20b327b-024c-447c-abff-0bdea8ed36f2"
      },
      "outputs": [
        {
          "name": "stdout",
          "output_type": "stream",
          "text": [
            "Test sample predictions:\n",
            "              precision    recall  f1-score   support\n",
            "\n",
            "           0       0.80      0.84      0.82       496\n",
            "           1       0.85      0.73      0.79       471\n",
            "           2       0.83      0.95      0.88       420\n",
            "           3       0.90      0.62      0.73       491\n",
            "           4       0.74      0.93      0.82       532\n",
            "           5       0.99      0.97      0.98       537\n",
            "\n",
            "    accuracy                           0.84      2947\n",
            "   macro avg       0.85      0.84      0.84      2947\n",
            "weighted avg       0.85      0.84      0.84      2947\n",
            "\n"
          ]
        }
      ],
      "source": [
        "print(f'Test sample predictions:\\n{classification_report(y_test_vector, predictions_neural_net_test)}')"
      ]
    },
    {
      "cell_type": "code",
      "execution_count": null,
      "id": "6c29041c",
      "metadata": {
        "id": "6c29041c"
      },
      "outputs": [],
      "source": [
        "roc_auc_train_std_nn = roc_auc_score(y_train_vector, neural_net_model.predict(X_train_f), multi_class = 'ovr')\n",
        "roc_auc_test_std_nn = roc_auc_score(y_test_vector, neural_net_model.predict(X_test_f), multi_class = 'ovr')"
      ]
    },
    {
      "cell_type": "code",
      "execution_count": null,
      "id": "64ced9be",
      "metadata": {
        "scrolled": false,
        "id": "64ced9be",
        "outputId": "b0638676-58f0-49f1-c947-c3a49eb6e429"
      },
      "outputs": [
        {
          "data": {
            "text/plain": [
              "(0.996643146081599, 0.9742618146380924)"
            ]
          },
          "execution_count": 599,
          "metadata": {},
          "output_type": "execute_result"
        }
      ],
      "source": [
        "roc_auc_train_std_nn, roc_auc_test_std_nn"
      ]
    },
    {
      "cell_type": "markdown",
      "id": "0531a036",
      "metadata": {
        "id": "0531a036"
      },
      "source": [
        "<hr>"
      ]
    },
    {
      "cell_type": "markdown",
      "id": "61ac8765",
      "metadata": {
        "id": "61ac8765"
      },
      "source": [
        "### B-3. Naive Bayes"
      ]
    },
    {
      "cell_type": "code",
      "execution_count": null,
      "id": "784cb8e8",
      "metadata": {
        "id": "784cb8e8"
      },
      "outputs": [],
      "source": [
        "from sklearn.naive_bayes import GaussianNB"
      ]
    },
    {
      "cell_type": "code",
      "execution_count": null,
      "id": "05d9f560",
      "metadata": {
        "id": "05d9f560"
      },
      "outputs": [],
      "source": [
        "nbc_model = GaussianNB().fit(X_train_f, y_train_vector)"
      ]
    },
    {
      "cell_type": "markdown",
      "id": "c79d2cd0",
      "metadata": {
        "id": "c79d2cd0"
      },
      "source": [
        "#### Classification report"
      ]
    },
    {
      "cell_type": "code",
      "execution_count": null,
      "id": "b8045e4d",
      "metadata": {
        "scrolled": true,
        "id": "b8045e4d",
        "outputId": "850fe11b-820a-4dad-9624-22e77e9e35e0"
      },
      "outputs": [
        {
          "name": "stdout",
          "output_type": "stream",
          "text": [
            "Test sample metrics:\n",
            "              precision    recall  f1-score   support\n",
            "\n",
            "           0       0.77      0.91      0.83       496\n",
            "           1       0.85      0.79      0.82       471\n",
            "           2       0.95      0.83      0.88       420\n",
            "           3       0.90      0.54      0.68       491\n",
            "           4       0.69      0.93      0.80       532\n",
            "           5       0.98      1.00      0.99       537\n",
            "\n",
            "    accuracy                           0.84      2947\n",
            "   macro avg       0.86      0.83      0.83      2947\n",
            "weighted avg       0.85      0.84      0.83      2947\n",
            "\n"
          ]
        }
      ],
      "source": [
        "print(f'Test sample metrics:\\n{classification_report(y_test_vector, nbc_model.predict(X_test_f))}')"
      ]
    },
    {
      "cell_type": "code",
      "execution_count": null,
      "id": "f0f178fe",
      "metadata": {
        "scrolled": true,
        "id": "f0f178fe",
        "outputId": "2079c457-3fec-4fb1-d6ff-d18b96f4831a"
      },
      "outputs": [
        {
          "data": {
            "text/plain": [
              "(0.9839805741711459, 0.9824641127496577)"
            ]
          },
          "execution_count": 605,
          "metadata": {},
          "output_type": "execute_result"
        }
      ],
      "source": [
        "roc_auc_train_median_nb = roc_auc_score(y_train_vector, nbc_model.predict_proba(X_train_f), multi_class = 'ovr')\n",
        "roc_auc_test_median_nb = roc_auc_score(y_test_vector, nbc_model.predict_proba(X_test_f), multi_class = 'ovr')\n",
        "\n",
        "roc_auc_train_median_nb, roc_auc_test_median_nb"
      ]
    },
    {
      "cell_type": "markdown",
      "id": "f6066d06",
      "metadata": {
        "id": "f6066d06"
      },
      "source": [
        "<hr>"
      ]
    },
    {
      "cell_type": "markdown",
      "id": "1cf222c0",
      "metadata": {
        "id": "1cf222c0"
      },
      "source": [
        "### B-4. Random Forest Classifier"
      ]
    },
    {
      "cell_type": "markdown",
      "id": "35d2389c",
      "metadata": {
        "id": "35d2389c"
      },
      "source": [
        "Experimentally, we have found out it is better to modify input data specifically for RFC by adding ranges of values for 128 data units of each sensor"
      ]
    },
    {
      "cell_type": "code",
      "execution_count": null,
      "id": "e86212fc",
      "metadata": {
        "id": "e86212fc"
      },
      "outputs": [],
      "source": [
        "X_train_rfc = np.concatenate((X_train_f, X_train_ptp), axis = 1)\n",
        "X_test_rfc = np.concatenate((X_test_f, X_test_ptp), axis = 1)"
      ]
    },
    {
      "cell_type": "code",
      "execution_count": null,
      "id": "e14c2063",
      "metadata": {
        "id": "e14c2063"
      },
      "outputs": [],
      "source": [
        "rfc_model = RandomForestClassifier().fit(X_train_rfc, y_train_vector)"
      ]
    },
    {
      "cell_type": "markdown",
      "id": "5f334d08",
      "metadata": {
        "id": "5f334d08"
      },
      "source": [
        "#### Classification report"
      ]
    },
    {
      "cell_type": "code",
      "execution_count": null,
      "id": "4587f69d",
      "metadata": {
        "scrolled": true,
        "id": "4587f69d",
        "outputId": "4ff03d9d-1367-4d09-a4f2-815ed5bd1a1c"
      },
      "outputs": [
        {
          "name": "stdout",
          "output_type": "stream",
          "text": [
            "Test sample metrics:\n",
            "              precision    recall  f1-score   support\n",
            "\n",
            "           0       0.74      0.74      0.74       496\n",
            "           1       0.74      0.79      0.76       471\n",
            "           2       0.91      0.86      0.88       420\n",
            "           3       0.88      0.87      0.87       491\n",
            "           4       0.88      0.89      0.88       532\n",
            "           5       1.00      1.00      1.00       537\n",
            "\n",
            "    accuracy                           0.86      2947\n",
            "   macro avg       0.86      0.86      0.86      2947\n",
            "weighted avg       0.86      0.86      0.86      2947\n",
            "\n"
          ]
        }
      ],
      "source": [
        "print(f'Test sample metrics:\\n{classification_report(y_test_vector, rfc_model.predict(X_test_rfc))}')"
      ]
    },
    {
      "cell_type": "code",
      "execution_count": null,
      "id": "0c8a2dde",
      "metadata": {
        "id": "0c8a2dde"
      },
      "outputs": [],
      "source": [
        "roc_auc_train_median_rfc = roc_auc_score(y_train_vector, rfc_model.predict_proba(X_train_rfc), multi_class = 'ovr')\n",
        "roc_auc_test_median_rfc = roc_auc_score(y_test_vector, rfc_model.predict_proba(X_test_rfc), multi_class = 'ovr')"
      ]
    },
    {
      "cell_type": "code",
      "execution_count": null,
      "id": "10bd072c",
      "metadata": {
        "scrolled": false,
        "id": "10bd072c",
        "outputId": "9b232470-4031-464d-a3ab-89d290905fdb"
      },
      "outputs": [
        {
          "data": {
            "text/plain": [
              "(1.0, 0.9835968825486604)"
            ]
          },
          "execution_count": 40,
          "metadata": {},
          "output_type": "execute_result"
        }
      ],
      "source": [
        "roc_auc_train_median_rfc, roc_auc_test_median_rfc # slight overfitting"
      ]
    },
    {
      "cell_type": "markdown",
      "id": "518d7ea2",
      "metadata": {
        "id": "518d7ea2"
      },
      "source": [
        "### B-5 (Winner) Convolutional-1D Neural Network -here we didn't need to provide any feature engineering as 1D-Conv NN can efficiently deal with 3D tensors (exactly like our input data tensor)"
      ]
    },
    {
      "cell_type": "markdown",
      "id": "dd0adae3",
      "metadata": {
        "id": "dd0adae3"
      },
      "source": [
        "#### CNN architecture"
      ]
    },
    {
      "cell_type": "code",
      "execution_count": null,
      "id": "6378e264",
      "metadata": {
        "id": "6378e264"
      },
      "outputs": [],
      "source": [
        "model_CNN = tf.keras.Sequential([tf.keras.Input(shape = (9, 128)), \n",
        "                                       tf.keras.layers.Conv1D(kernel_size = 3, filters = 5000, activation = 'relu'), \n",
        "                                       tf.keras.layers.Conv1D(kernel_size = 3, filters = 5, activation = 'relu'),\n",
        "                                       tf.keras.layers.Flatten(), \n",
        "                                       tf.keras.layers.Dense(229, activation = 'relu', bias_initializer = 'zeros'), \n",
        "                                       tf.keras.layers.Dense(6, activation = 'softmax')])"
      ]
    },
    {
      "cell_type": "markdown",
      "id": "c60aca5f",
      "metadata": {
        "id": "c60aca5f"
      },
      "source": [
        "#### Compilation "
      ]
    },
    {
      "cell_type": "code",
      "execution_count": null,
      "id": "aeafc785",
      "metadata": {
        "id": "aeafc785"
      },
      "outputs": [],
      "source": [
        "model_CNN.compile(optimizer = 'adam', \n",
        "                  loss = 'categorical_crossentropy', \n",
        "                  metrics = ['Precision', 'Recall'])"
      ]
    },
    {
      "cell_type": "markdown",
      "id": "7b31dc6b",
      "metadata": {
        "id": "7b31dc6b"
      },
      "source": [
        "#### Fitting - we provide our swapped 3d tensor as input"
      ]
    },
    {
      "cell_type": "code",
      "execution_count": null,
      "id": "ed1584c5",
      "metadata": {
        "id": "ed1584c5",
        "outputId": "0b5fc2d7-47b2-481d-e402-4d17780b9276"
      },
      "outputs": [
        {
          "name": "stdout",
          "output_type": "stream",
          "text": [
            "Epoch 1/20\n",
            "230/230 [==============================] - 17s 73ms/step - loss: 0.0447 - precision: 0.9860 - recall: 0.9857\n",
            "Epoch 2/20\n",
            "230/230 [==============================] - 16s 68ms/step - loss: 0.0486 - precision: 0.9860 - recall: 0.9860\n",
            "Epoch 3/20\n",
            "230/230 [==============================] - 16s 71ms/step - loss: 0.0322 - precision: 0.9910 - recall: 0.9909\n",
            "Epoch 4/20\n",
            "230/230 [==============================] - 16s 68ms/step - loss: 0.0130 - precision: 0.9952 - recall: 0.9952\n",
            "Epoch 5/20\n",
            "230/230 [==============================] - 18s 77ms/step - loss: 0.0810 - precision: 0.9812 - recall: 0.9808\n",
            "Epoch 6/20\n",
            "230/230 [==============================] - 17s 75ms/step - loss: 0.0460 - precision: 0.9856 - recall: 0.9856\n",
            "Epoch 7/20\n",
            "230/230 [==============================] - 17s 73ms/step - loss: 0.0194 - precision: 0.9939 - recall: 0.9939\n",
            "Epoch 8/20\n",
            "230/230 [==============================] - 18s 77ms/step - loss: 0.0039 - precision: 0.9993 - recall: 0.9993\n",
            "Epoch 9/20\n",
            "230/230 [==============================] - 18s 77ms/step - loss: 0.0228 - precision: 0.9935 - recall: 0.9933\n",
            "Epoch 10/20\n",
            "230/230 [==============================] - 16s 71ms/step - loss: 0.0217 - precision: 0.9928 - recall: 0.9928\n",
            "Epoch 11/20\n",
            "230/230 [==============================] - 16s 71ms/step - loss: 0.0183 - precision: 0.9937 - recall: 0.9936\n",
            "Epoch 12/20\n",
            "230/230 [==============================] - 17s 72ms/step - loss: 0.0056 - precision: 0.9984 - recall: 0.9982\n",
            "Epoch 13/20\n",
            "230/230 [==============================] - 16s 70ms/step - loss: 0.0094 - precision: 0.9973 - recall: 0.9973\n",
            "Epoch 14/20\n",
            "230/230 [==============================] - 16s 69ms/step - loss: 0.0041 - precision: 0.9989 - recall: 0.9989\n",
            "Epoch 15/20\n",
            "230/230 [==============================] - 17s 75ms/step - loss: 0.0014 - precision: 0.9999 - recall: 0.9999\n",
            "Epoch 16/20\n",
            "230/230 [==============================] - 16s 69ms/step - loss: 5.2207e-04 - precision: 1.0000 - recall: 1.0000\n",
            "Epoch 17/20\n",
            "230/230 [==============================] - 17s 72ms/step - loss: 3.8540e-04 - precision: 1.0000 - recall: 1.00001s - loss: 3.9066e-04 - precision: 1.0000 - recall: 1.00 - ETA: 1s - loss: 3.8885e-04 - pr\n",
            "Epoch 18/20\n",
            "230/230 [==============================] - 18s 77ms/step - loss: 3.1220e-04 - precision: 1.0000 - recall: 1.0000\n",
            "Epoch 19/20\n",
            "230/230 [==============================] - 18s 78ms/step - loss: 2.6861e-04 - precision: 1.0000 - recall: 1.0000\n",
            "Epoch 20/20\n",
            "230/230 [==============================] - 18s 80ms/step - loss: 2.1079e-04 - precision: 1.0000 - recall: 1.0000\n"
          ]
        },
        {
          "data": {
            "text/plain": [
              "<tensorflow.python.keras.callbacks.History at 0x21a15875c10>"
            ]
          },
          "execution_count": 743,
          "metadata": {},
          "output_type": "execute_result"
        }
      ],
      "source": [
        "model_CNN.fit(X_train_swapped, y_train, epochs = 20)"
      ]
    },
    {
      "cell_type": "markdown",
      "id": "9d4b4b3d",
      "metadata": {
        "id": "9d4b4b3d"
      },
      "source": [
        "#### Classification report"
      ]
    },
    {
      "cell_type": "code",
      "execution_count": null,
      "id": "a6318347",
      "metadata": {
        "id": "a6318347",
        "outputId": "9442c556-b59d-4024-9a3a-082b0a8a2577"
      },
      "outputs": [
        {
          "name": "stdout",
          "output_type": "stream",
          "text": [
            "Test sample predictions:\n",
            "              precision    recall  f1-score   support\n",
            "\n",
            "           0       0.98      0.92      0.95       496\n",
            "           1       0.92      0.93      0.93       471\n",
            "           2       0.89      0.95      0.92       420\n",
            "           3       0.93      0.81      0.87       491\n",
            "           4       0.81      0.94      0.87       532\n",
            "           5       0.99      0.95      0.97       537\n",
            "\n",
            "    accuracy                           0.92      2947\n",
            "   macro avg       0.92      0.92      0.92      2947\n",
            "weighted avg       0.92      0.92      0.92      2947\n",
            "\n"
          ]
        }
      ],
      "source": [
        "print(f'Test sample predictions:\\n{classification_report(y_test_vector, model_CNN.predict_classes(X_test_swapped))}')"
      ]
    },
    {
      "cell_type": "code",
      "execution_count": null,
      "id": "b446f07d",
      "metadata": {
        "scrolled": true,
        "id": "b446f07d",
        "outputId": "11f0f3d3-c9d1-4d83-a444-c85cdcbbf4a4"
      },
      "outputs": [
        {
          "data": {
            "text/plain": [
              "(1.0, 0.9751168843964385)"
            ]
          },
          "execution_count": 745,
          "metadata": {},
          "output_type": "execute_result"
        }
      ],
      "source": [
        "roc_auc_train_cnn = roc_auc_score(y_train_vector, model_CNN.predict(X_train_swapped), multi_class = 'ovr')\n",
        "roc_auc_test_cnn = roc_auc_score(y_test_vector, model_CNN.predict(X_test_swapped), multi_class = 'ovr')\n",
        "roc_auc_train_cnn, roc_auc_test_cnn"
      ]
    },
    {
      "cell_type": "markdown",
      "id": "12f27269",
      "metadata": {
        "id": "12f27269"
      },
      "source": [
        "<hr>"
      ]
    },
    {
      "cell_type": "markdown",
      "source": [
        "### Results \n",
        "As we can see, the best solution for the problem presented is a 1D-CNN model. It's been possible to reach the scores of 92% for each metric taken into consideration"
      ],
      "metadata": {
        "id": "Qhun_cNv3I5X"
      },
      "id": "Qhun_cNv3I5X"
    }
  ],
  "metadata": {
    "kernelspec": {
      "display_name": "Python 3 (ipykernel)",
      "language": "python",
      "name": "python3"
    },
    "language_info": {
      "codemirror_mode": {
        "name": "ipython",
        "version": 3
      },
      "file_extension": ".py",
      "mimetype": "text/x-python",
      "name": "python",
      "nbconvert_exporter": "python",
      "pygments_lexer": "ipython3",
      "version": "3.8.12"
    },
    "colab": {
      "provenance": []
    }
  },
  "nbformat": 4,
  "nbformat_minor": 5
}